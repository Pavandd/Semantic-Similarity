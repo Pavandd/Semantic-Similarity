{
 "cells": [
  {
   "cell_type": "markdown",
   "id": "c6155764",
   "metadata": {},
   "source": [
    "## Importing Libraries and Data"
   ]
  },
  {
   "cell_type": "code",
   "execution_count": 6,
   "id": "c3b2f920",
   "metadata": {},
   "outputs": [],
   "source": [
    "from sentence_transformers import SentenceTransformer, util"
   ]
  },
  {
   "cell_type": "code",
   "execution_count": 7,
   "id": "c437c5d6",
   "metadata": {},
   "outputs": [],
   "source": [
    "# Put sentences here\n",
    "text1 = 'I like to play Cricket'\n",
    "text2 = 'I like to play Football'"
   ]
  },
  {
   "cell_type": "code",
   "execution_count": 8,
   "id": "daa9fb1e",
   "metadata": {},
   "outputs": [],
   "source": [
    "text1 = ' '.join(text1.split())\n",
    "text2 = ' '.join(text2.split())"
   ]
  },
  {
   "cell_type": "markdown",
   "id": "12ed7d0e",
   "metadata": {},
   "source": [
    "## Preparing the Model"
   ]
  },
  {
   "cell_type": "code",
   "execution_count": 9,
   "id": "339557bc",
   "metadata": {},
   "outputs": [],
   "source": [
    "# This is the model that transforms sentences & paragraphs to tensors based on semantic similarity\n",
    "\n",
    "model = SentenceTransformer('multi-qa-MiniLM-L6-dot-v1')"
   ]
  },
  {
   "cell_type": "code",
   "execution_count": 10,
   "id": "11cf27f7",
   "metadata": {},
   "outputs": [],
   "source": [
    "# Store the similarity scores obtained in a list by finding the Cosine Similarity of resultant tensors\n",
    "\n",
    "embedding1 = model.encode(text1, convert_to_tensor=True)\n",
    "embedding2 = model.encode(text2, convert_to_tensor=True)\n",
    "cosine_scores = util.pytorch_cos_sim(embedding1, embedding2)\n",
    "similarity_score = cosine_scores.item()"
   ]
  },
  {
   "cell_type": "code",
   "execution_count": 12,
   "id": "79c58273",
   "metadata": {},
   "outputs": [
    {
     "name": "stdout",
     "output_type": "stream",
     "text": [
      "0.87\n"
     ]
    }
   ],
   "source": [
    "print(round(similarity_score,2))"
   ]
  },
  {
   "cell_type": "code",
   "execution_count": null,
   "id": "9c599a1f",
   "metadata": {},
   "outputs": [],
   "source": []
  }
 ],
 "metadata": {
  "kernelspec": {
   "display_name": "Python 3 (ipykernel)",
   "language": "python",
   "name": "python3"
  },
  "language_info": {
   "codemirror_mode": {
    "name": "ipython",
    "version": 3
   },
   "file_extension": ".py",
   "mimetype": "text/x-python",
   "name": "python",
   "nbconvert_exporter": "python",
   "pygments_lexer": "ipython3",
   "version": "3.8.8"
  }
 },
 "nbformat": 4,
 "nbformat_minor": 5
}
